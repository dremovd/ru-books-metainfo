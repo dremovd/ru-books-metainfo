{
 "cells": [
  {
   "cell_type": "code",
   "execution_count": 1,
   "metadata": {},
   "outputs": [
    {
     "name": "stderr",
     "output_type": "stream",
     "text": [
      "/usr/local/lib/python2.7/dist-packages/IPython/core/interactiveshell.py:2714: DtypeWarning: Columns (11) have mixed types. Specify dtype option on import or set low_memory=False.\n",
      "  interactivity=interactivity, compiler=compiler, result=result)\n"
     ]
    },
    {
     "name": "stdout",
     "output_type": "stream",
     "text": [
      "Index([u'annotation', u'author', u'date', u'flibusta_id', u'genres', u'id',\n",
      "       u'language', u'program', u'publisher', u'source', u'title', u'year',\n",
      "       u'self_published_rule_based'],\n",
      "      dtype='object')\n"
     ]
    }
   ],
   "source": [
    "import tqdm\n",
    "import pandas as pd\n",
    "import os\n",
    "\n",
    "data_dir = '../public/models/'\n",
    "info = pd.read_csv(os.path.join(data_dir, 'dataset.csv.gz'), encoding='utf-8')\n",
    "info['genres'] = info.genres.apply(lambda x: x.strip('[]').split(', '))\n",
    "print(info.columns)"
   ]
  },
  {
   "cell_type": "code",
   "execution_count": 2,
   "metadata": {},
   "outputs": [],
   "source": [
    "samizdat_publishers = [\n",
    "    u'си',\n",
    "    u'selfpub',\n",
    "    u'самиздат',\n",
    "    u'издательские решения',\n",
    "    u'ридеро',\n",
    "]"
   ]
  },
  {
   "cell_type": "code",
   "execution_count": 3,
   "metadata": {},
   "outputs": [],
   "source": [
    "info['self_published_rule_based'] = (\n",
    "    info.genres.apply(lambda genres: 'network_literature' in genres) | \n",
    "    info.publisher.fillna('').apply(lambda x: x.strip().lower()).isin(samizdat_publishers) |\n",
    "    info.publisher.fillna('').apply(lambda x: x.find(u'СИ') != -1) | \n",
    "    info.source.fillna('').apply(lambda x: x.find(u'samlib.ru') != -1) |\n",
    "    info.source.fillna('').apply(lambda x: x.find(u'litmir') != -1) |\n",
    "    info.source.fillna('').apply(lambda x: x.find(u'proza.ru') != -1)\n",
    ")"
   ]
  },
  {
   "cell_type": "code",
   "execution_count": 4,
   "metadata": {},
   "outputs": [],
   "source": [
    "info['publisher'] = info['publisher'].str.strip().str.lower()"
   ]
  },
  {
   "cell_type": "code",
   "execution_count": 5,
   "metadata": {},
   "outputs": [],
   "source": [
    "import numpy as np\n",
    "import re\n",
    "\n",
    "re_ast = re.compile(ur'(\\bаст\\b)|(\\bast\\b)', re.UNICODE)\n",
    "info['publisher'] = info['publisher'].fillna('')\n",
    "info['publisher_eksmo'] = info.publisher.apply(lambda x: x.find(u'эксмо') != -1)\n",
    "info['publisher_ast'] = info.publisher.apply(lambda x: bool(re_ast.search(x)))\n",
    "info['publisher_si'] = info.publisher.apply(lambda x: (x.find(u'си') != -1) | (x.find(u'самиздат') != -1))\n",
    "info['publisher_mg'] = info.publisher.apply(lambda x: (x.find(u'молодая гвардия') != -1))\n",
    "info['publisher_azbuka'] = info.publisher.apply(lambda x: (x.find(u'азбука') != -1))\n",
    "info['publisher_cp'] = info.publisher.apply(lambda x: (x.find(u'центрполиграф') != -1))\n",
    "info['publisher_dl'] = info.publisher.apply(lambda x: (x.find(u'детская литература') != -1))\n",
    "info['publisher_veche'] = info.publisher.apply(lambda x: (x.find(u'вече') != -1))\n",
    "info['publisher_alpha'] = info.publisher.apply(lambda x: (x.find(u'альфа') != -1))\n",
    "columns = [c for c in info.columns if c.startswith('publisher')]\n",
    "sample = info[info.publisher.astype(bool) & (info.language == 'ru') & info[columns[1:]].apply(np.any, axis = 1)]"
   ]
  },
  {
   "cell_type": "code",
   "execution_count": 6,
   "metadata": {},
   "outputs": [],
   "source": [
    "sample[['author', 'annotation', 'title'] + columns[1:]].to_csv('publisher_sample.csv', index=False, encoding='utf-8')"
   ]
  },
  {
   "cell_type": "code",
   "execution_count": 7,
   "metadata": {},
   "outputs": [],
   "source": [
    "from itertools import chain\n",
    "from collections import Counter\n",
    "\n",
    "genres = [g for g, count in Counter(chain(*info.genres.values)).most_common(20) if g!='network_literature']\n",
    "\n",
    "for g in genres:\n",
    "    info['genre_%s' % g] = info.genres.apply(lambda genres: g in genres)"
   ]
  },
  {
   "cell_type": "code",
   "execution_count": 8,
   "metadata": {},
   "outputs": [
    {
     "data": {
      "text/plain": [
       "[u'sf',\n",
       " u'prose_contemporary',\n",
       " u'sf_fantasy',\n",
       " u'nonf_biography',\n",
       " u'sci_history',\n",
       " u'nonf_publicism',\n",
       " u'sf_action',\n",
       " u'detective',\n",
       " u'prose_classic',\n",
       " u'love_contemporary',\n",
       " u'love_short',\n",
       " u'love_sf',\n",
       " u'sf_horror',\n",
       " u'love_history',\n",
       " u'sf_history',\n",
       " u'prose_rus_classic',\n",
       " u'prose_history',\n",
       " u'prose_su_classics',\n",
       " u'child_prose']"
      ]
     },
     "execution_count": 8,
     "metadata": {},
     "output_type": "execute_result"
    }
   ],
   "source": [
    "genres"
   ]
  },
  {
   "cell_type": "code",
   "execution_count": 9,
   "metadata": {},
   "outputs": [],
   "source": [
    "import numpy as np\n",
    "\n",
    "genre_columns = ['genre_%s' % g for g in genres]\n",
    "sample_genres = info[(info[genre_columns].apply(np.sum, axis=1) == 1) & (info.language == 'ru')]"
   ]
  },
  {
   "cell_type": "code",
   "execution_count": null,
   "metadata": {},
   "outputs": [],
   "source": [
    "sample_genres[['author', 'annotation', 'title'] + genre_columns].to_csv('genre_sample.csv', index=False, encoding='utf-8')"
   ]
  },
  {
   "cell_type": "code",
   "execution_count": null,
   "metadata": {},
   "outputs": [],
   "source": []
  }
 ],
 "metadata": {
  "kernelspec": {
   "display_name": "Python 2",
   "language": "python",
   "name": "python2"
  },
  "language_info": {
   "codemirror_mode": {
    "name": "ipython",
    "version": 2
   },
   "file_extension": ".py",
   "mimetype": "text/x-python",
   "name": "python",
   "nbconvert_exporter": "python",
   "pygments_lexer": "ipython2",
   "version": "2.7.12"
  }
 },
 "nbformat": 4,
 "nbformat_minor": 2
}
